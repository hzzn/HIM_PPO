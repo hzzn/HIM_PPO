{
 "cells": [
  {
   "cell_type": "markdown",
   "metadata": {},
   "source": [
    "### import"
   ]
  },
  {
   "cell_type": "code",
   "execution_count": 2,
   "metadata": {},
   "outputs": [],
   "source": [
    "import torch\n",
    "from torch import nn\n",
    "from torch.functional import F\n",
    "from torch.distributions import Multinomial, Categorical\n",
    "from torch import optim\n",
    "from torch.optim import Adam\n",
    "import numpy as np\n",
    "import importlib as imp\n",
    "import actor\n",
    "import envs\n",
    "import utils\n",
    "imp.reload(actor)\n",
    "imp.reload(envs)\n",
    "imp.reload(utils)\n",
    "from actor import Actor, Critic, LinearCritic\n",
    "from envs import HospitalEnv\n",
    "from utils import mlp_sample, ppo_update\n",
    "from env_config import ENV_CONFIG as config\n",
    "from tqdm import tqdm"
   ]
  },
  {
   "cell_type": "code",
   "execution_count": 33,
   "metadata": {},
   "outputs": [
    {
     "name": "stdout",
     "output_type": "stream",
     "text": [
      "The autoreload extension is already loaded. To reload it, use:\n",
      "  %reload_ext autoreload\n"
     ]
    }
   ],
   "source": [
    "%load_ext autoreload\n",
    "%autoreload 1"
   ]
  },
  {
   "cell_type": "code",
   "execution_count": 4,
   "metadata": {},
   "outputs": [],
   "source": [
    "env = HospitalEnv(config)\n",
    "act = Actor(config)\n",
    "crtc = LinearCritic(config)\n",
    "optimizer_actor = Adam(act.parameters(), lr=1e-4)\n",
    "optimizer_critic = Adam(crtc.parameters(), lr=1e-3)"
   ]
  },
  {
   "cell_type": "code",
   "execution_count": 5,
   "metadata": {},
   "outputs": [],
   "source": [
    "config[\"Simulation_days\"] = 1000\n",
    "epochs = 5"
   ]
  },
  {
   "cell_type": "code",
   "execution_count": 6,
   "metadata": {},
   "outputs": [
    {
     "name": "stderr",
     "output_type": "stream",
     "text": [
      "                                                              \r"
     ]
    }
   ],
   "source": [
    "trajectory = mlp_sample(env, act, config, is_random=True)\n",
    "states = torch.stack([t['state'] for t in trajectory]).float()\n",
    "actions = torch.stack([t['action'] for t in trajectory]).float()\n",
    "costs = torch.tensor([t['cost'] for t in trajectory], dtype=torch.float32)\n",
    "next_states = torch.stack([t['next_state'] for t in trajectory]).float()\n",
    "\n",
    "# Recompute log_probs using current logits for compatibility with PPO update\n",
    "logits = torch.stack([t['logits'] for t in trajectory]).float()\n",
    "old_probs = F.log_softmax(logits, dim=-1)\n",
    "\n",
    "memory = (states, actions, old_probs, costs, next_states)\n",
    "ppo_update(act, crtc, memory, optimizer_actor, optimizer_critic, config)"
   ]
  },
  {
   "cell_type": "code",
   "execution_count": 11,
   "metadata": {},
   "outputs": [
    {
     "data": {
      "text/plain": [
       "tensor([ 35.,  35., 175.,  70.])"
      ]
     },
     "execution_count": 11,
     "metadata": {},
     "output_type": "execute_result"
    }
   ],
   "source": []
  }
 ],
 "metadata": {
  "kernelspec": {
   "display_name": "Python 3.11.8 ('pytorch')",
   "language": "python",
   "name": "python3"
  },
  "language_info": {
   "codemirror_mode": {
    "name": "ipython",
    "version": 3
   },
   "file_extension": ".py",
   "mimetype": "text/x-python",
   "name": "python",
   "nbconvert_exporter": "python",
   "pygments_lexer": "ipython3",
   "version": "3.11.8"
  },
  "orig_nbformat": 4,
  "vscode": {
   "interpreter": {
    "hash": "3601b7b3f89f25615544950604143274621f8d9c00c5b69e4759092a010fde2d"
   }
  }
 },
 "nbformat": 4,
 "nbformat_minor": 2
}
