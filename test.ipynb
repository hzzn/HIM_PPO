{
 "cells": [
  {
   "cell_type": "markdown",
   "metadata": {},
   "source": [
    "### import"
   ]
  },
  {
   "cell_type": "code",
   "execution_count": 29,
   "metadata": {},
   "outputs": [],
   "source": [
    "import torch\n",
    "from torch import nn\n",
    "from torch.functional import F\n",
    "from torch.distributions import Multinomial, Categorical\n",
    "from torch import optim\n",
    "import numpy as np\n",
    "import importlib as imp\n",
    "import actor\n",
    "import envs\n",
    "import utils\n",
    "imp.reload(actor)\n",
    "imp.reload(envs)\n",
    "imp.reload(utils)\n",
    "from actor import Actor, Critic, LinearCritic\n",
    "from envs import HospitalEnv\n",
    "from utils import mlp_sample, ppo_update\n",
    "from env_config import ENV_CONFIG as config"
   ]
  },
  {
   "cell_type": "code",
   "execution_count": 33,
   "metadata": {},
   "outputs": [
    {
     "name": "stdout",
     "output_type": "stream",
     "text": [
      "The autoreload extension is already loaded. To reload it, use:\n",
      "  %reload_ext autoreload\n"
     ]
    }
   ],
   "source": [
    "%load_ext autoreload\n",
    "%autoreload 1"
   ]
  },
  {
   "cell_type": "markdown",
   "metadata": {},
   "source": [
    "### 5池"
   ]
  },
  {
   "cell_type": "markdown",
   "metadata": {},
   "source": [
    "#### 1.env actor初始化"
   ]
  },
  {
   "cell_type": "code",
   "execution_count": 30,
   "metadata": {},
   "outputs": [],
   "source": [
    "state_dim = 2 * config[\"num_pools\"] + 1\n",
    "env = HospitalEnv(config)\n",
    "act = Actor(config)\n",
    "crtc = LinearCritic(state_dim)\n",
    "state = env.reset()\n",
    "state_tensor = state.float().unsqueeze(0)"
   ]
  },
  {
   "cell_type": "code",
   "execution_count": 23,
   "metadata": {},
   "outputs": [
    {
     "data": {
      "text/plain": [
       "torch.Size([1, 11])"
      ]
     },
     "execution_count": 23,
     "metadata": {},
     "output_type": "execute_result"
    }
   ],
   "source": [
    "state_tensor.shape"
   ]
  },
  {
   "cell_type": "code",
   "execution_count": 31,
   "metadata": {},
   "outputs": [],
   "source": [
    "with torch.no_grad():\n",
    "    logits = act(state_tensor).view(env.J, env.J)"
   ]
  },
  {
   "cell_type": "code",
   "execution_count": 32,
   "metadata": {},
   "outputs": [
    {
     "data": {
      "text/plain": [
       "(tensor([1, 0, 1, 3, 2, 0, 0, 0, 0, 0, 0]),\n",
       " tensor(0.),\n",
       " tensor([[0, 0, 0, 0, 0],\n",
       "         [0, 0, 0, 0, 0],\n",
       "         [0, 0, 0, 0, 0],\n",
       "         [0, 0, 0, 0, 0],\n",
       "         [0, 0, 0, 0, 0]], dtype=torch.int32))"
      ]
     },
     "execution_count": 32,
     "metadata": {},
     "output_type": "execute_result"
    }
   ],
   "source": [
    "env.step(logits)"
   ]
  },
  {
   "cell_type": "code",
   "execution_count": 33,
   "metadata": {},
   "outputs": [],
   "source": [
    "traj = mlp_sample(env, act, config, is_random=True)"
   ]
  },
  {
   "cell_type": "code",
   "execution_count": 9,
   "metadata": {},
   "outputs": [
    {
     "data": {
      "text/plain": [
       "(tensor([[[3.6380e-20, 1.0587e-06, 1.0000e+00, 0.0000e+00, 5.0422e-14],\n",
       "          [0.0000e+00, 2.1018e-19, 2.1018e-19, 2.1018e-19, 1.0000e+00],\n",
       "          [0.0000e+00, 0.0000e+00, 1.0000e+00, 0.0000e+00, 0.0000e+00],\n",
       "          [3.8123e-07, 1.5410e-05, 9.9998e-01, 3.8123e-07, 0.0000e+00],\n",
       "          [4.6719e-27, 4.6719e-27, 1.0850e-22, 0.0000e+00, 1.0000e+00]]],\n",
       "        grad_fn=<SoftmaxBackward0>),\n",
       " torch.Size([1, 5, 5]))"
      ]
     },
     "execution_count": 9,
     "metadata": {},
     "output_type": "execute_result"
    }
   ],
   "source": [
    "prob = F.softmax(logits, dim=-1)\n",
    "prob, prob.shape"
   ]
  },
  {
   "cell_type": "code",
   "execution_count": null,
   "metadata": {},
   "outputs": [],
   "source": [
    "env()"
   ]
  },
  {
   "cell_type": "code",
   "execution_count": 3,
   "metadata": {},
   "outputs": [],
   "source": [
    "new_actor = Actor(J=J, B=B)\n",
    "old_actor = Actor(J=J, B=B)"
   ]
  },
  {
   "cell_type": "code",
   "execution_count": 40,
   "metadata": {},
   "outputs": [],
   "source": [
    "new_actor = Actor_GRU(J=J, B=B)\n",
    "old_actor = Actor_GRU(J=J, B=B)"
   ]
  },
  {
   "cell_type": "markdown",
   "metadata": {},
   "source": [
    "#### 3.训练"
   ]
  },
  {
   "cell_type": "code",
   "execution_count": 41,
   "metadata": {},
   "outputs": [],
   "source": [
    "optimizer_actor = optim.Adam(new_actor.parameters(), lr=1e-3)\n",
    "optimizer_crictic = optim.Adam(crictic.parameters(), lr=1e-3)\n",
    "gamma=0.99\n",
    "clip_ratio=0.2\n",
    "train_epochs=5\n",
    "batch_size=24"
   ]
  }
 ],
 "metadata": {
  "kernelspec": {
   "display_name": "Python 3.11.8 ('pytorch')",
   "language": "python",
   "name": "python3"
  },
  "language_info": {
   "codemirror_mode": {
    "name": "ipython",
    "version": 3
   },
   "file_extension": ".py",
   "mimetype": "text/x-python",
   "name": "python",
   "nbconvert_exporter": "python",
   "pygments_lexer": "ipython3",
   "version": "3.11.8"
  },
  "orig_nbformat": 4,
  "vscode": {
   "interpreter": {
    "hash": "3601b7b3f89f25615544950604143274621f8d9c00c5b69e4759092a010fde2d"
   }
  }
 },
 "nbformat": 4,
 "nbformat_minor": 2
}
